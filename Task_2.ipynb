{
  "nbformat": 4,
  "nbformat_minor": 0,
  "metadata": {
    "colab": {
      "provenance": []
    },
    "kernelspec": {
      "name": "python3",
      "display_name": "Python 3"
    },
    "language_info": {
      "name": "python"
    }
  },
  "cells": [
    {
      "cell_type": "markdown",
      "source": [
        "#Task-2: Stock Market Prediction And Forecasting Using Stacked LSTM\n",
        "#AUTHOR: Aditya Gurav\n",
        "Importing packages"
      ],
      "metadata": {
        "id": "G6OJPBfMlmaS"
      }
    },
    {
      "cell_type": "code",
      "source": [
        "import math\n",
        "import numpy as np\n",
        "import pandas as pd\n",
        "import tensorflow as tf\n",
        "import matplotlib.pyplot as plt"
      ],
      "metadata": {
        "id": "VB8xvtXNl0o_"
      },
      "execution_count": 3,
      "outputs": []
    },
    {
      "cell_type": "code",
      "source": [
        "%matplotlib inline"
      ],
      "metadata": {
        "id": "o93RsPPil4Rp"
      },
      "execution_count": 4,
      "outputs": []
    },
    {
      "cell_type": "code",
      "source": [
        "ds = pd.read_csv(\"https://raw.githubusercontent.com/mwitiderrick/stockprice/master/NSE-TATAGLOBAL.csv\")\n",
        "ds = ds.loc[::-1]\n",
        "ds.head()"
      ],
      "metadata": {
        "colab": {
          "base_uri": "https://localhost:8080/",
          "height": 206
        },
        "id": "OiJ6BB8vl6OD",
        "outputId": "5b55610f-af63-411e-c201-d8e36e8e4e0c"
      },
      "execution_count": 5,
      "outputs": [
        {
          "output_type": "execute_result",
          "data": {
            "text/plain": [
              "            Date   Open    High     Low    Last   Close  Total Trade Quantity  \\\n",
              "2034  2010-07-21  122.1  123.00  121.05  121.10  121.55                658666   \n",
              "2033  2010-07-22  120.3  122.00  120.25  120.75  120.90                293312   \n",
              "2032  2010-07-23  121.8  121.95  120.25  120.35  120.65                281312   \n",
              "2031  2010-07-26  120.1  121.00  117.10  117.10  117.60                658440   \n",
              "2030  2010-07-27  117.6  119.50  112.00  118.80  118.65                586100   \n",
              "\n",
              "      Turnover (Lacs)  \n",
              "2034           803.56  \n",
              "2033           355.17  \n",
              "2032           340.31  \n",
              "2031           780.01  \n",
              "2030           694.98  "
            ],
            "text/html": [
              "\n",
              "  <div id=\"df-7420b343-f071-4665-837b-25d9d5dcb65b\">\n",
              "    <div class=\"colab-df-container\">\n",
              "      <div>\n",
              "<style scoped>\n",
              "    .dataframe tbody tr th:only-of-type {\n",
              "        vertical-align: middle;\n",
              "    }\n",
              "\n",
              "    .dataframe tbody tr th {\n",
              "        vertical-align: top;\n",
              "    }\n",
              "\n",
              "    .dataframe thead th {\n",
              "        text-align: right;\n",
              "    }\n",
              "</style>\n",
              "<table border=\"1\" class=\"dataframe\">\n",
              "  <thead>\n",
              "    <tr style=\"text-align: right;\">\n",
              "      <th></th>\n",
              "      <th>Date</th>\n",
              "      <th>Open</th>\n",
              "      <th>High</th>\n",
              "      <th>Low</th>\n",
              "      <th>Last</th>\n",
              "      <th>Close</th>\n",
              "      <th>Total Trade Quantity</th>\n",
              "      <th>Turnover (Lacs)</th>\n",
              "    </tr>\n",
              "  </thead>\n",
              "  <tbody>\n",
              "    <tr>\n",
              "      <th>2034</th>\n",
              "      <td>2010-07-21</td>\n",
              "      <td>122.1</td>\n",
              "      <td>123.00</td>\n",
              "      <td>121.05</td>\n",
              "      <td>121.10</td>\n",
              "      <td>121.55</td>\n",
              "      <td>658666</td>\n",
              "      <td>803.56</td>\n",
              "    </tr>\n",
              "    <tr>\n",
              "      <th>2033</th>\n",
              "      <td>2010-07-22</td>\n",
              "      <td>120.3</td>\n",
              "      <td>122.00</td>\n",
              "      <td>120.25</td>\n",
              "      <td>120.75</td>\n",
              "      <td>120.90</td>\n",
              "      <td>293312</td>\n",
              "      <td>355.17</td>\n",
              "    </tr>\n",
              "    <tr>\n",
              "      <th>2032</th>\n",
              "      <td>2010-07-23</td>\n",
              "      <td>121.8</td>\n",
              "      <td>121.95</td>\n",
              "      <td>120.25</td>\n",
              "      <td>120.35</td>\n",
              "      <td>120.65</td>\n",
              "      <td>281312</td>\n",
              "      <td>340.31</td>\n",
              "    </tr>\n",
              "    <tr>\n",
              "      <th>2031</th>\n",
              "      <td>2010-07-26</td>\n",
              "      <td>120.1</td>\n",
              "      <td>121.00</td>\n",
              "      <td>117.10</td>\n",
              "      <td>117.10</td>\n",
              "      <td>117.60</td>\n",
              "      <td>658440</td>\n",
              "      <td>780.01</td>\n",
              "    </tr>\n",
              "    <tr>\n",
              "      <th>2030</th>\n",
              "      <td>2010-07-27</td>\n",
              "      <td>117.6</td>\n",
              "      <td>119.50</td>\n",
              "      <td>112.00</td>\n",
              "      <td>118.80</td>\n",
              "      <td>118.65</td>\n",
              "      <td>586100</td>\n",
              "      <td>694.98</td>\n",
              "    </tr>\n",
              "  </tbody>\n",
              "</table>\n",
              "</div>\n",
              "      <button class=\"colab-df-convert\" onclick=\"convertToInteractive('df-7420b343-f071-4665-837b-25d9d5dcb65b')\"\n",
              "              title=\"Convert this dataframe to an interactive table.\"\n",
              "              style=\"display:none;\">\n",
              "        \n",
              "  <svg xmlns=\"http://www.w3.org/2000/svg\" height=\"24px\"viewBox=\"0 0 24 24\"\n",
              "       width=\"24px\">\n",
              "    <path d=\"M0 0h24v24H0V0z\" fill=\"none\"/>\n",
              "    <path d=\"M18.56 5.44l.94 2.06.94-2.06 2.06-.94-2.06-.94-.94-2.06-.94 2.06-2.06.94zm-11 1L8.5 8.5l.94-2.06 2.06-.94-2.06-.94L8.5 2.5l-.94 2.06-2.06.94zm10 10l.94 2.06.94-2.06 2.06-.94-2.06-.94-.94-2.06-.94 2.06-2.06.94z\"/><path d=\"M17.41 7.96l-1.37-1.37c-.4-.4-.92-.59-1.43-.59-.52 0-1.04.2-1.43.59L10.3 9.45l-7.72 7.72c-.78.78-.78 2.05 0 2.83L4 21.41c.39.39.9.59 1.41.59.51 0 1.02-.2 1.41-.59l7.78-7.78 2.81-2.81c.8-.78.8-2.07 0-2.86zM5.41 20L4 18.59l7.72-7.72 1.47 1.35L5.41 20z\"/>\n",
              "  </svg>\n",
              "      </button>\n",
              "      \n",
              "  <style>\n",
              "    .colab-df-container {\n",
              "      display:flex;\n",
              "      flex-wrap:wrap;\n",
              "      gap: 12px;\n",
              "    }\n",
              "\n",
              "    .colab-df-convert {\n",
              "      background-color: #E8F0FE;\n",
              "      border: none;\n",
              "      border-radius: 50%;\n",
              "      cursor: pointer;\n",
              "      display: none;\n",
              "      fill: #1967D2;\n",
              "      height: 32px;\n",
              "      padding: 0 0 0 0;\n",
              "      width: 32px;\n",
              "    }\n",
              "\n",
              "    .colab-df-convert:hover {\n",
              "      background-color: #E2EBFA;\n",
              "      box-shadow: 0px 1px 2px rgba(60, 64, 67, 0.3), 0px 1px 3px 1px rgba(60, 64, 67, 0.15);\n",
              "      fill: #174EA6;\n",
              "    }\n",
              "\n",
              "    [theme=dark] .colab-df-convert {\n",
              "      background-color: #3B4455;\n",
              "      fill: #D2E3FC;\n",
              "    }\n",
              "\n",
              "    [theme=dark] .colab-df-convert:hover {\n",
              "      background-color: #434B5C;\n",
              "      box-shadow: 0px 1px 3px 1px rgba(0, 0, 0, 0.15);\n",
              "      filter: drop-shadow(0px 1px 2px rgba(0, 0, 0, 0.3));\n",
              "      fill: #FFFFFF;\n",
              "    }\n",
              "  </style>\n",
              "\n",
              "      <script>\n",
              "        const buttonEl =\n",
              "          document.querySelector('#df-7420b343-f071-4665-837b-25d9d5dcb65b button.colab-df-convert');\n",
              "        buttonEl.style.display =\n",
              "          google.colab.kernel.accessAllowed ? 'block' : 'none';\n",
              "\n",
              "        async function convertToInteractive(key) {\n",
              "          const element = document.querySelector('#df-7420b343-f071-4665-837b-25d9d5dcb65b');\n",
              "          const dataTable =\n",
              "            await google.colab.kernel.invokeFunction('convertToInteractive',\n",
              "                                                     [key], {});\n",
              "          if (!dataTable) return;\n",
              "\n",
              "          const docLinkHtml = 'Like what you see? Visit the ' +\n",
              "            '<a target=\"_blank\" href=https://colab.research.google.com/notebooks/data_table.ipynb>data table notebook</a>'\n",
              "            + ' to learn more about interactive tables.';\n",
              "          element.innerHTML = '';\n",
              "          dataTable['output_type'] = 'display_data';\n",
              "          await google.colab.output.renderOutput(dataTable, element);\n",
              "          const docLink = document.createElement('div');\n",
              "          docLink.innerHTML = docLinkHtml;\n",
              "          element.appendChild(docLink);\n",
              "        }\n",
              "      </script>\n",
              "    </div>\n",
              "  </div>\n",
              "  "
            ]
          },
          "metadata": {},
          "execution_count": 5
        }
      ]
    },
    {
      "cell_type": "code",
      "source": [
        "if(ds.isnull().sum().any() == 0):\n",
        "    print(\"No null value is present\")\n",
        "else:\n",
        "    print(\"Some data cleaning needs to be done!!\")"
      ],
      "metadata": {
        "colab": {
          "base_uri": "https://localhost:8080/"
        },
        "id": "C9spIxYtl_Do",
        "outputId": "17a9e80d-0c65-4ddc-abda-8da674eb820a"
      },
      "execution_count": 6,
      "outputs": [
        {
          "output_type": "stream",
          "name": "stdout",
          "text": [
            "No null value is present\n"
          ]
        }
      ]
    },
    {
      "cell_type": "code",
      "source": [
        "ds.isnull().sum()"
      ],
      "metadata": {
        "colab": {
          "base_uri": "https://localhost:8080/"
        },
        "id": "ZnQ1zzU4mDoS",
        "outputId": "267ac211-fe76-405e-9d64-f647d7b15f7e"
      },
      "execution_count": 7,
      "outputs": [
        {
          "output_type": "execute_result",
          "data": {
            "text/plain": [
              "Date                    0\n",
              "Open                    0\n",
              "High                    0\n",
              "Low                     0\n",
              "Last                    0\n",
              "Close                   0\n",
              "Total Trade Quantity    0\n",
              "Turnover (Lacs)         0\n",
              "dtype: int64"
            ]
          },
          "metadata": {},
          "execution_count": 7
        }
      ]
    },
    {
      "cell_type": "code",
      "source": [
        "ds.shape #(rows,col..)"
      ],
      "metadata": {
        "colab": {
          "base_uri": "https://localhost:8080/"
        },
        "id": "RxKOQXLBmFvM",
        "outputId": "0a82ee3c-4bf5-4662-8976-f73d1078d45f"
      },
      "execution_count": 8,
      "outputs": [
        {
          "output_type": "execute_result",
          "data": {
            "text/plain": [
              "(2035, 8)"
            ]
          },
          "metadata": {},
          "execution_count": 8
        }
      ]
    },
    {
      "cell_type": "code",
      "source": [
        "ds_high = ds.reset_index()['High'] #reset the index back to the default 0, 1, 2 etc\n",
        "plt.plot(ds_high)\n",
        "plt.show()"
      ],
      "metadata": {
        "colab": {
          "base_uri": "https://localhost:8080/",
          "height": 430
        },
        "id": "BRpXoRbRmJXc",
        "outputId": "71b7edc2-5196-4abb-8d35-ac8a77221ceb"
      },
      "execution_count": 9,
      "outputs": [
        {
          "output_type": "display_data",
          "data": {
            "text/plain": [
              "<Figure size 640x480 with 1 Axes>"
            ],
            "image/png": "[encoded data removed]"
          },
          "metadata": {}
        }
      ]
    },
    {
      "cell_type": "code",
      "source": [
        "from sklearn.preprocessing import MinMaxScaler\n",
        "from sklearn.metrics import mean_squared_error\n",
        "\n",
        "sc = MinMaxScaler(feature_range= (0,1))\n",
        "ds_high = sc.fit_transform(np.array(ds_high).reshape(-1,1))"
      ],
      "metadata": {
        "id": "98RBJUKCmKRm"
      },
      "execution_count": 10,
      "outputs": []
    },
    {
      "cell_type": "markdown",
      "source": [
        "#SPLITTING DATASET"
      ],
      "metadata": {
        "id": "7F_JmpdHmOSc"
      }
    },
    {
      "cell_type": "code",
      "source": [
        "train_size = int(len(ds_high)*0.75)\n",
        "test_size = len(ds_high)-train_size"
      ],
      "metadata": {
        "id": "ja9RdwjUmM8c"
      },
      "execution_count": 11,
      "outputs": []
    },
    {
      "cell_type": "code",
      "source": [
        "train_data = ds_high[0:train_size,:]\n",
        "test_data = ds_high[train_size:len(ds_high),:1]"
      ],
      "metadata": {
        "id": "f7SaVKxTmTY-"
      },
      "execution_count": 12,
      "outputs": []
    },
    {
      "cell_type": "code",
      "source": [
        "def create_dataset(dataset, time_step = 1):\n",
        "    dataX, dataY = [], []\n",
        "    for i in range(len(dataset) - time_step - 1):\n",
        "        a = dataset[i:(i+time_step), 0]\n",
        "        dataX.append(a)\n",
        "        dataY.append(dataset[i+time_step, 0])\n",
        "    return np.array(dataX), np.array(dataY)"
      ],
      "metadata": {
        "id": "k_9fuKMDmTne"
      },
      "execution_count": 13,
      "outputs": []
    },
    {
      "cell_type": "code",
      "source": [
        "time_step = 100\n",
        "x_train, y_train = create_dataset(train_data, time_step)\n",
        "x_test, y_test = create_dataset(test_data, time_step)"
      ],
      "metadata": {
        "id": "TP6gsh9RmT3a"
      },
      "execution_count": 14,
      "outputs": []
    },
    {
      "cell_type": "code",
      "source": [
        "x_train = x_train.reshape(x_train.shape[0],x_train.shape[1],1)\n",
        "x_test = x_test.reshape(x_test.shape[0],x_test.shape[1],1)\n",
        "\n",
        "print(\"X train shape:\",x_train.shape)\n",
        "print(\"y train shape:\",y_train.shape)\n",
        "\n",
        "print(\"X test shape:\",x_test.shape)\n",
        "print(\"y test shape:\",y_test.shape)"
      ],
      "metadata": {
        "colab": {
          "base_uri": "https://localhost:8080/"
        },
        "id": "pQrnMR1lmUGp",
        "outputId": "79bc8bc7-27d4-4c1d-c76a-87d6ca208353"
      },
      "execution_count": 15,
      "outputs": [
        {
          "output_type": "stream",
          "name": "stdout",
          "text": [
            "X train shape: (1425, 100, 1)\n",
            "y train shape: (1425,)\n",
            "X test shape: (408, 100, 1)\n",
            "y test shape: (408,)\n"
          ]
        }
      ]
    },
    {
      "cell_type": "markdown",
      "source": [
        "#Creating the LSTM model"
      ],
      "metadata": {
        "id": "9T0DR_Vwmbr6"
      }
    },
    {
      "cell_type": "code",
      "source": [
        "from tensorflow.python.keras.models import Sequential\n",
        "from tensorflow.python.keras.layers import Dense,LSTM\n",
        "\n",
        "lstm = Sequential()\n",
        "lstm.add(LSTM(50, return_sequences = True,input_shape = (100,1)))\n",
        "lstm.add(LSTM(50,return_sequences = True))\n",
        "lstm.add(LSTM(50))\n",
        "\n",
        "lstm.add(Dense(1))\n",
        "lstm.compile(loss = \"mean_squared_error\",optimizer = \"adam\")"
      ],
      "metadata": {
        "id": "2-GMsJ5eme8M"
      },
      "execution_count": 16,
      "outputs": []
    },
    {
      "cell_type": "code",
      "source": [
        "lstm.summary()"
      ],
      "metadata": {
        "colab": {
          "base_uri": "https://localhost:8080/"
        },
        "id": "-mSQZ4xnmh6H",
        "outputId": "31325a85-8c41-4f6a-85ab-7dba28ef7a71"
      },
      "execution_count": 17,
      "outputs": [
        {
          "output_type": "stream",
          "name": "stdout",
          "text": [
            "Model: \"sequential\"\n",
            "_________________________________________________________________\n",
            "Layer (type)                 Output Shape              Param #   \n",
            "=================================================================\n",
            "lstm (LSTM)                  (None, 100, 50)           10400     \n",
            "_________________________________________________________________\n",
            "lstm_1 (LSTM)                (None, 100, 50)           20200     \n",
            "_________________________________________________________________\n",
            "lstm_2 (LSTM)                (None, 50)                20200     \n",
            "_________________________________________________________________\n",
            "dense (Dense)                (None, 1)                 51        \n",
            "=================================================================\n",
            "Total params: 50,851\n",
            "Trainable params: 50,851\n",
            "Non-trainable params: 0\n",
            "_________________________________________________________________\n"
          ]
        }
      ]
    },
    {
      "cell_type": "code",
      "source": [
        "lstm.fit(x_train,y_train,validation_data = (x_test,y_test),epochs = 100,batch_size = 64,verbose = 1)"
      ],
      "metadata": {
        "colab": {
          "base_uri": "https://localhost:8080/"
        },
        "id": "7ZjEDAxZmiQr",
        "outputId": "8351f360-f8d1-4037-cece-0b3b4d6514db"
      },
      "execution_count": 18,
      "outputs": [
        {
          "output_type": "stream",
          "name": "stdout",
          "text": [
            "Epoch 1/100\n",
            "23/23 [==============================] - 20s 522ms/step - loss: 0.0110 - val_loss: 0.0384\n",
            "Epoch 2/100\n",
            "23/23 [==============================] - 14s 637ms/step - loss: 0.0018 - val_loss: 0.0033\n",
            "Epoch 3/100\n",
            "23/23 [==============================] - 11s 427ms/step - loss: 8.3747e-04 - val_loss: 0.0031\n",
            "Epoch 4/100\n",
            "23/23 [==============================] - 11s 483ms/step - loss: 8.1264e-04 - val_loss: 0.0029\n",
            "Epoch 5/100\n",
            "23/23 [==============================] - 11s 482ms/step - loss: 7.3036e-04 - val_loss: 0.0028\n",
            "Epoch 6/100\n",
            "23/23 [==============================] - 11s 479ms/step - loss: 7.1664e-04 - val_loss: 0.0029\n",
            "Epoch 7/100\n",
            "23/23 [==============================] - 11s 481ms/step - loss: 6.6253e-04 - val_loss: 0.0046\n",
            "Epoch 8/100\n",
            "23/23 [==============================] - 11s 470ms/step - loss: 6.4492e-04 - val_loss: 0.0033\n",
            "Epoch 9/100\n",
            "23/23 [==============================] - 11s 456ms/step - loss: 5.9905e-04 - val_loss: 0.0030\n",
            "Epoch 10/100\n",
            "23/23 [==============================] - 11s 477ms/step - loss: 5.9565e-04 - val_loss: 0.0034\n",
            "Epoch 11/100\n",
            "23/23 [==============================] - 11s 493ms/step - loss: 6.0731e-04 - val_loss: 0.0052\n",
            "Epoch 12/100\n",
            "23/23 [==============================] - 11s 491ms/step - loss: 5.4434e-04 - val_loss: 0.0025\n",
            "Epoch 13/100\n",
            "23/23 [==============================] - 11s 495ms/step - loss: 5.4331e-04 - val_loss: 0.0050\n",
            "Epoch 14/100\n",
            "23/23 [==============================] - 11s 503ms/step - loss: 5.1125e-04 - val_loss: 0.0079\n",
            "Epoch 15/100\n",
            "23/23 [==============================] - 10s 458ms/step - loss: 4.8998e-04 - val_loss: 0.0063\n",
            "Epoch 16/100\n",
            "23/23 [==============================] - 11s 460ms/step - loss: 4.7177e-04 - val_loss: 0.0085\n",
            "Epoch 17/100\n",
            "23/23 [==============================] - 12s 503ms/step - loss: 4.7212e-04 - val_loss: 0.0093\n",
            "Epoch 18/100\n",
            "23/23 [==============================] - 11s 497ms/step - loss: 4.7141e-04 - val_loss: 0.0075\n",
            "Epoch 19/100\n",
            "23/23 [==============================] - 11s 501ms/step - loss: 4.6793e-04 - val_loss: 0.0104\n",
            "Epoch 20/100\n",
            "23/23 [==============================] - 11s 503ms/step - loss: 4.4213e-04 - val_loss: 0.0054\n",
            "Epoch 21/100\n",
            "23/23 [==============================] - 12s 505ms/step - loss: 4.2327e-04 - val_loss: 0.0080\n",
            "Epoch 22/100\n",
            "23/23 [==============================] - 11s 476ms/step - loss: 4.1042e-04 - val_loss: 0.0071\n",
            "Epoch 23/100\n",
            "23/23 [==============================] - 11s 447ms/step - loss: 3.9395e-04 - val_loss: 0.0073\n",
            "Epoch 24/100\n",
            "23/23 [==============================] - 11s 504ms/step - loss: 3.8782e-04 - val_loss: 0.0070\n",
            "Epoch 25/100\n",
            "23/23 [==============================] - 12s 504ms/step - loss: 3.7681e-04 - val_loss: 0.0069\n",
            "Epoch 26/100\n",
            "23/23 [==============================] - 11s 497ms/step - loss: 3.6835e-04 - val_loss: 0.0099\n",
            "Epoch 27/100\n",
            "23/23 [==============================] - 12s 506ms/step - loss: 4.0292e-04 - val_loss: 0.0062\n",
            "Epoch 28/100\n",
            "23/23 [==============================] - 12s 506ms/step - loss: 3.6148e-04 - val_loss: 0.0072\n",
            "Epoch 29/100\n",
            "23/23 [==============================] - 11s 500ms/step - loss: 3.5587e-04 - val_loss: 0.0085\n",
            "Epoch 30/100\n",
            "23/23 [==============================] - 11s 464ms/step - loss: 3.7174e-04 - val_loss: 0.0039\n",
            "Epoch 31/100\n",
            "23/23 [==============================] - 11s 461ms/step - loss: 3.6020e-04 - val_loss: 0.0043\n",
            "Epoch 32/100\n",
            "23/23 [==============================] - 11s 494ms/step - loss: 3.1264e-04 - val_loss: 0.0059\n",
            "Epoch 33/100\n",
            "23/23 [==============================] - 12s 504ms/step - loss: 3.0663e-04 - val_loss: 0.0047\n",
            "Epoch 34/100\n",
            "23/23 [==============================] - 11s 499ms/step - loss: 3.0160e-04 - val_loss: 0.0043\n",
            "Epoch 35/100\n",
            "23/23 [==============================] - 12s 505ms/step - loss: 3.0279e-04 - val_loss: 0.0058\n",
            "Epoch 36/100\n",
            "23/23 [==============================] - 11s 502ms/step - loss: 3.1231e-04 - val_loss: 0.0046\n",
            "Epoch 37/100\n",
            "23/23 [==============================] - 11s 488ms/step - loss: 2.7621e-04 - val_loss: 0.0057\n",
            "Epoch 38/100\n",
            "23/23 [==============================] - 11s 443ms/step - loss: 2.6625e-04 - val_loss: 0.0034\n",
            "Epoch 39/100\n",
            "23/23 [==============================] - 11s 488ms/step - loss: 2.6328e-04 - val_loss: 0.0026\n",
            "Epoch 40/100\n",
            "23/23 [==============================] - 11s 502ms/step - loss: 2.6002e-04 - val_loss: 0.0034\n",
            "Epoch 41/100\n",
            "23/23 [==============================] - 11s 490ms/step - loss: 2.3770e-04 - val_loss: 0.0053\n",
            "Epoch 42/100\n",
            "23/23 [==============================] - 11s 497ms/step - loss: 2.4566e-04 - val_loss: 0.0037\n",
            "Epoch 43/100\n",
            "23/23 [==============================] - 12s 507ms/step - loss: 2.3574e-04 - val_loss: 0.0014\n",
            "Epoch 44/100\n",
            "23/23 [==============================] - 11s 475ms/step - loss: 2.2103e-04 - val_loss: 0.0047\n",
            "Epoch 45/100\n",
            "23/23 [==============================] - 11s 448ms/step - loss: 2.2172e-04 - val_loss: 0.0051\n",
            "Epoch 46/100\n",
            "23/23 [==============================] - 12s 504ms/step - loss: 2.1556e-04 - val_loss: 0.0029\n",
            "Epoch 47/100\n",
            "23/23 [==============================] - 11s 494ms/step - loss: 2.1537e-04 - val_loss: 0.0020\n",
            "Epoch 48/100\n",
            "23/23 [==============================] - 11s 498ms/step - loss: 2.4483e-04 - val_loss: 0.0052\n",
            "Epoch 49/100\n",
            "23/23 [==============================] - 11s 493ms/step - loss: 1.9675e-04 - val_loss: 0.0016\n",
            "Epoch 50/100\n",
            "23/23 [==============================] - 11s 500ms/step - loss: 1.9221e-04 - val_loss: 0.0037\n",
            "Epoch 51/100\n",
            "23/23 [==============================] - 11s 483ms/step - loss: 1.9629e-04 - val_loss: 0.0025\n",
            "Epoch 52/100\n",
            "23/23 [==============================] - 11s 451ms/step - loss: 1.8564e-04 - val_loss: 0.0032\n",
            "Epoch 53/100\n",
            "23/23 [==============================] - 11s 477ms/step - loss: 1.8475e-04 - val_loss: 0.0025\n",
            "Epoch 54/100\n",
            "23/23 [==============================] - 12s 509ms/step - loss: 1.9276e-04 - val_loss: 0.0018\n",
            "Epoch 55/100\n",
            "23/23 [==============================] - 11s 499ms/step - loss: 1.8198e-04 - val_loss: 0.0020\n",
            "Epoch 56/100\n",
            "23/23 [==============================] - 12s 515ms/step - loss: 2.1027e-04 - val_loss: 0.0040\n",
            "Epoch 57/100\n",
            "23/23 [==============================] - 12s 506ms/step - loss: 1.6797e-04 - val_loss: 0.0022\n",
            "Epoch 58/100\n",
            "23/23 [==============================] - 12s 507ms/step - loss: 1.7404e-04 - val_loss: 0.0032\n",
            "Epoch 59/100\n",
            "23/23 [==============================] - 11s 466ms/step - loss: 1.5445e-04 - val_loss: 0.0020\n",
            "Epoch 60/100\n",
            "23/23 [==============================] - 11s 462ms/step - loss: 1.4994e-04 - val_loss: 0.0016\n",
            "Epoch 61/100\n",
            "23/23 [==============================] - 11s 495ms/step - loss: 1.5694e-04 - val_loss: 0.0025\n",
            "Epoch 62/100\n",
            "23/23 [==============================] - 11s 491ms/step - loss: 1.4545e-04 - val_loss: 0.0033\n",
            "Epoch 63/100\n",
            "23/23 [==============================] - 12s 509ms/step - loss: 1.4273e-04 - val_loss: 0.0015\n",
            "Epoch 64/100\n",
            "23/23 [==============================] - 11s 492ms/step - loss: 1.6462e-04 - val_loss: 0.0012\n",
            "Epoch 65/100\n",
            "23/23 [==============================] - 11s 501ms/step - loss: 1.6042e-04 - val_loss: 0.0019\n",
            "Epoch 66/100\n",
            "23/23 [==============================] - 11s 465ms/step - loss: 1.3463e-04 - val_loss: 0.0023\n",
            "Epoch 67/100\n",
            "23/23 [==============================] - 11s 456ms/step - loss: 1.6867e-04 - val_loss: 0.0020\n",
            "Epoch 68/100\n",
            "23/23 [==============================] - 11s 503ms/step - loss: 1.3265e-04 - val_loss: 0.0018\n",
            "Epoch 69/100\n",
            "23/23 [==============================] - 11s 494ms/step - loss: 1.2794e-04 - val_loss: 0.0017\n",
            "Epoch 70/100\n",
            "23/23 [==============================] - 11s 498ms/step - loss: 1.3310e-04 - val_loss: 0.0016\n",
            "Epoch 71/100\n",
            "23/23 [==============================] - 11s 496ms/step - loss: 1.2664e-04 - val_loss: 0.0021\n",
            "Epoch 72/100\n",
            "23/23 [==============================] - 11s 498ms/step - loss: 1.3012e-04 - val_loss: 0.0019\n",
            "Epoch 73/100\n",
            "23/23 [==============================] - 10s 440ms/step - loss: 1.2403e-04 - val_loss: 0.0031\n",
            "Epoch 74/100\n",
            "23/23 [==============================] - 11s 445ms/step - loss: 1.4173e-04 - val_loss: 0.0030\n",
            "Epoch 75/100\n",
            "23/23 [==============================] - 11s 499ms/step - loss: 1.2371e-04 - val_loss: 0.0010\n",
            "Epoch 76/100\n",
            "23/23 [==============================] - 11s 492ms/step - loss: 1.4356e-04 - val_loss: 0.0013\n",
            "Epoch 77/100\n",
            "23/23 [==============================] - 11s 494ms/step - loss: 1.2955e-04 - val_loss: 0.0014\n",
            "Epoch 78/100\n",
            "23/23 [==============================] - 11s 495ms/step - loss: 1.4534e-04 - val_loss: 0.0018\n",
            "Epoch 79/100\n",
            "23/23 [==============================] - 11s 489ms/step - loss: 1.2379e-04 - val_loss: 0.0024\n",
            "Epoch 80/100\n",
            "23/23 [==============================] - 10s 430ms/step - loss: 1.1765e-04 - val_loss: 0.0019\n",
            "Epoch 81/100\n",
            "23/23 [==============================] - 11s 489ms/step - loss: 1.2199e-04 - val_loss: 0.0022\n",
            "Epoch 82/100\n",
            "23/23 [==============================] - 11s 502ms/step - loss: 1.3451e-04 - val_loss: 8.4084e-04\n",
            "Epoch 83/100\n",
            "23/23 [==============================] - 11s 496ms/step - loss: 1.6319e-04 - val_loss: 0.0014\n",
            "Epoch 84/100\n",
            "23/23 [==============================] - 11s 492ms/step - loss: 1.2355e-04 - val_loss: 0.0010\n",
            "Epoch 85/100\n",
            "23/23 [==============================] - 12s 504ms/step - loss: 1.3607e-04 - val_loss: 0.0018\n",
            "Epoch 86/100\n",
            "23/23 [==============================] - 11s 472ms/step - loss: 1.1664e-04 - val_loss: 0.0010\n",
            "Epoch 87/100\n",
            "23/23 [==============================] - 10s 430ms/step - loss: 1.2574e-04 - val_loss: 0.0013\n",
            "Epoch 88/100\n",
            "23/23 [==============================] - 11s 490ms/step - loss: 1.1953e-04 - val_loss: 0.0018\n",
            "Epoch 89/100\n",
            "23/23 [==============================] - 11s 499ms/step - loss: 1.1475e-04 - val_loss: 0.0013\n",
            "Epoch 90/100\n",
            "23/23 [==============================] - 11s 499ms/step - loss: 1.2619e-04 - val_loss: 0.0026\n",
            "Epoch 91/100\n",
            "23/23 [==============================] - 11s 489ms/step - loss: 1.2323e-04 - val_loss: 0.0016\n",
            "Epoch 92/100\n",
            "23/23 [==============================] - 11s 484ms/step - loss: 1.2396e-04 - val_loss: 5.7546e-04\n",
            "Epoch 93/100\n",
            "23/23 [==============================] - 10s 441ms/step - loss: 1.5226e-04 - val_loss: 0.0017\n",
            "Epoch 94/100\n",
            "23/23 [==============================] - 11s 470ms/step - loss: 1.2162e-04 - val_loss: 8.4890e-04\n",
            "Epoch 95/100\n",
            "23/23 [==============================] - 11s 492ms/step - loss: 1.2914e-04 - val_loss: 0.0023\n",
            "Epoch 96/100\n",
            "23/23 [==============================] - 11s 497ms/step - loss: 1.2429e-04 - val_loss: 0.0021\n",
            "Epoch 97/100\n",
            "23/23 [==============================] - 12s 509ms/step - loss: 1.1293e-04 - val_loss: 0.0019\n",
            "Epoch 98/100\n",
            "23/23 [==============================] - 11s 496ms/step - loss: 1.1440e-04 - val_loss: 0.0019\n",
            "Epoch 99/100\n",
            "23/23 [==============================] - 12s 506ms/step - loss: 1.1902e-04 - val_loss: 0.0019\n",
            "Epoch 100/100\n",
            "23/23 [==============================] - 10s 456ms/step - loss: 1.2541e-04 - val_loss: 0.0011\n"
          ]
        },
        {
          "output_type": "execute_result",
          "data": {
            "text/plain": [
              "<tensorflow.python.keras.callbacks.History at 0x7f435dcb4ee0>"
            ]
          },
          "metadata": {},
          "execution_count": 18
        }
      ]
    },
    {
      "cell_type": "code",
      "source": [
        "train_pred = lstm.predict(x_train)\n",
        "test_pred = lstm.predict(x_test)"
      ],
      "metadata": {
        "id": "Zd5sgaiwmijc"
      },
      "execution_count": 19,
      "outputs": []
    },
    {
      "cell_type": "code",
      "source": [
        "train_pred = sc.inverse_transform(train_pred)\n",
        "test_pred = sc.inverse_transform(test_pred)"
      ],
      "metadata": {
        "id": "AZkqS6Symwfs"
      },
      "execution_count": 20,
      "outputs": []
    },
    {
      "cell_type": "code",
      "source": [
        "math.sqrt(mean_squared_error(y_train,train_pred)) #RMSE performance metrics"
      ],
      "metadata": {
        "colab": {
          "base_uri": "https://localhost:8080/"
        },
        "id": "dn_b0wCJmwqK",
        "outputId": "22f84eaf-c5c7-4ba0-cc43-fe7e14962314"
      },
      "execution_count": 21,
      "outputs": [
        {
          "output_type": "execute_result",
          "data": {
            "text/plain": [
              "135.88126323368377"
            ]
          },
          "metadata": {},
          "execution_count": 21
        }
      ]
    },
    {
      "cell_type": "code",
      "source": [
        "math.sqrt(mean_squared_error(y_test,test_pred)) #RMSE test data"
      ],
      "metadata": {
        "colab": {
          "base_uri": "https://localhost:8080/"
        },
        "id": "arPv_wGpmw6k",
        "outputId": "0553e2f3-5eeb-43d8-e21c-db30b3a0599e"
      },
      "execution_count": 22,
      "outputs": [
        {
          "output_type": "execute_result",
          "data": {
            "text/plain": [
              "227.23743274347234"
            ]
          },
          "metadata": {},
          "execution_count": 22
        }
      ]
    },
    {
      "cell_type": "markdown",
      "source": [
        "#Plotting"
      ],
      "metadata": {
        "id": "GrUGDWc-m8Wl"
      }
    },
    {
      "cell_type": "code",
      "source": [
        "#shift train prediction for plotting\n",
        "look_back = 100\n",
        "trainPredictPlot = np.empty_like(ds_high)\n",
        "trainPredictPlot[:,:] = np.nan\n",
        "trainPredictPlot[look_back : len(train_pred) + look_back,:] = train_pred\n",
        "\n",
        "#shift test prediction for plotting\n",
        "testPredictPlot = np.empty_like(ds_high)\n",
        "testPredictPlot[:,:] = np.nan\n",
        "testPredictPlot[len(train_pred) +  (look_back * 2)+1:len(ds_high) - 1, :] = test_pred\n",
        "\n",
        "#plot baseline and predictions\n",
        "plt.plot(sc.inverse_transform(ds_high))\n",
        "plt.plot(trainPredictPlot)\n",
        "plt.plot(testPredictPlot)\n",
        "plt.show()\n",
        "\n",
        "print(\"Green : Predicted data\")\n",
        "print(\"Blue: Complete data\")\n",
        "print(\"Orange: Train data\")"
      ],
      "metadata": {
        "colab": {
          "base_uri": "https://localhost:8080/",
          "height": 482
        },
        "id": "ml4ZJwgZmxJg",
        "outputId": "a0852a53-228a-4c5c-9359-18f36b306115"
      },
      "execution_count": 23,
      "outputs": [
        {
          "output_type": "display_data",
          "data": {
            "text/plain": [
              "<Figure size 640x480 with 1 Axes>"
            ],
            "image/png": "[encoded data removed]"
          },
          "metadata": {}
        },
        {
          "output_type": "stream",
          "name": "stdout",
          "text": [
            "Green : Predicted data\n",
            "Blue: Complete data\n",
            "Orange: Train data\n"
          ]
        }
      ]
    },
    {
      "cell_type": "code",
      "source": [
        "len(test_data),x_test.shape #predict the next 28 days stock price"
      ],
      "metadata": {
        "colab": {
          "base_uri": "https://localhost:8080/"
        },
        "id": "O3354xlCnBWT",
        "outputId": "9aff31f3-8995-4951-8525-3f55e26c34d3"
      },
      "execution_count": 24,
      "outputs": [
        {
          "output_type": "execute_result",
          "data": {
            "text/plain": [
              "(509, (408, 100, 1))"
            ]
          },
          "metadata": {},
          "execution_count": 24
        }
      ]
    },
    {
      "cell_type": "code",
      "source": [
        "x_input = test_data[409:].reshape(1,-1)\n",
        "x_input.shape"
      ],
      "metadata": {
        "colab": {
          "base_uri": "https://localhost:8080/"
        },
        "id": "Q_aqDQ8JnE42",
        "outputId": "26c21e02-39d2-4b8e-da7d-61567adeec49"
      },
      "execution_count": 25,
      "outputs": [
        {
          "output_type": "execute_result",
          "data": {
            "text/plain": [
              "(1, 100)"
            ]
          },
          "metadata": {},
          "execution_count": 25
        }
      ]
    },
    {
      "cell_type": "code",
      "source": [
        "temp_input = list(x_input)\n",
        "temp_input = temp_input[0].tolist()\n",
        "\n",
        "lst_output = []\n",
        "n_steps = 100\n",
        "nextNumberOfDays = 28\n",
        "i = 0\n",
        "\n",
        "while(i < 28):\n",
        "\n",
        "    if(len(temp_input) > 100):\n",
        "        x_input = np.array(temp_input[1:])\n",
        "        print(\"{} day input {}\".format(i,x_input))\n",
        "        x_input = x_input.reshape(1,-1)\n",
        "        x_input = x_input.reshape((1, n_steps, 1))\n",
        "        yhat = lstm.predict(x_input, verbose=0)\n",
        "        print(\"{} day output {}\".format(i,yhat))\n",
        "        temp_input.extend(yhat[0].tolist())\n",
        "        temp_input = temp_input[1:]\n",
        "        lst_output.extend(yhat.tolist())\n",
        "        i = i+1\n",
        "\n",
        "    else:\n",
        "        x_input = x_input.reshape((1, n_steps,1))\n",
        "        yhat = lstm.predict(x_input, verbose=0)\n",
        "        print(yhat[0])\n",
        "        temp_input.extend(yhat[0].tolist())\n",
        "        print(len(temp_input))\n",
        "        lst_output.extend(yhat.tolist())\n",
        "        i=i+1\n",
        "\n",
        "\n",
        "print(lst_output)"
      ],
      "metadata": {
        "colab": {
          "base_uri": "https://localhost:8080/"
        },
        "id": "rEywx01RnFQZ",
        "outputId": "95538e57-087e-49ce-f182-d54765062320"
      },
      "execution_count": 26,
      "outputs": [
        {
          "output_type": "stream",
          "name": "stdout",
          "text": [
            "[0.6103452]\n",
            "101\n",
            "1 day input [0.86013417 0.85464525 0.84448059 0.8072779  0.71843871 0.66192316\n",
            " 0.67696686 0.67554381 0.67310429 0.68428542 0.68936776 0.70217524\n",
            " 0.71803212 0.72941655 0.73144948 0.74486684 0.76926205 0.75991055\n",
            " 0.74242732 0.73958122 0.74771295 0.75991055 0.7584875  0.76621264\n",
            " 0.75462492 0.76316324 0.79670665 0.80585485 0.7889815  0.78003659\n",
            " 0.73978451 0.73002643 0.73490547 0.74872942 0.75991055 0.75462492\n",
            " 0.75401504 0.76174019 0.7737345  0.82008538 0.80585485 0.81154706\n",
            " 0.77434438 0.78633869 0.79284407 0.78328929 0.77109169 0.74385038\n",
            " 0.71193332 0.68733482 0.67818662 0.65257166 0.64301687 0.65643423\n",
            " 0.67656028 0.67371417 0.65114861 0.65521447 0.66761537 0.67838992\n",
            " 0.69993901 0.63122586 0.63508843 0.64098394 0.64545639 0.64118723\n",
            " 0.63854442 0.63081927 0.62472047 0.6330555  0.64728603 0.6574507\n",
            " 0.66761537 0.66720878 0.64159382 0.62776987 0.63651149 0.63630819\n",
            " 0.62980281 0.62817646 0.63813783 0.65358813 0.63183574 0.57653995\n",
            " 0.57816629 0.57613336 0.61943484 0.57979264 0.57288067 0.62573694\n",
            " 0.63102257 0.6361049  0.62776987 0.6269567  0.63590161 0.62594023\n",
            " 0.6391543  0.62614353 0.62268754 0.61034518]\n",
            "1 day output [[0.5892816]]\n",
            "2 day input [0.85464525 0.84448059 0.8072779  0.71843871 0.66192316 0.67696686\n",
            " 0.67554381 0.67310429 0.68428542 0.68936776 0.70217524 0.71803212\n",
            " 0.72941655 0.73144948 0.74486684 0.76926205 0.75991055 0.74242732\n",
            " 0.73958122 0.74771295 0.75991055 0.7584875  0.76621264 0.75462492\n",
            " 0.76316324 0.79670665 0.80585485 0.7889815  0.78003659 0.73978451\n",
            " 0.73002643 0.73490547 0.74872942 0.75991055 0.75462492 0.75401504\n",
            " 0.76174019 0.7737345  0.82008538 0.80585485 0.81154706 0.77434438\n",
            " 0.78633869 0.79284407 0.78328929 0.77109169 0.74385038 0.71193332\n",
            " 0.68733482 0.67818662 0.65257166 0.64301687 0.65643423 0.67656028\n",
            " 0.67371417 0.65114861 0.65521447 0.66761537 0.67838992 0.69993901\n",
            " 0.63122586 0.63508843 0.64098394 0.64545639 0.64118723 0.63854442\n",
            " 0.63081927 0.62472047 0.6330555  0.64728603 0.6574507  0.66761537\n",
            " 0.66720878 0.64159382 0.62776987 0.63651149 0.63630819 0.62980281\n",
            " 0.62817646 0.63813783 0.65358813 0.63183574 0.57653995 0.57816629\n",
            " 0.57613336 0.61943484 0.57979264 0.57288067 0.62573694 0.63102257\n",
            " 0.6361049  0.62776987 0.6269567  0.63590161 0.62594023 0.6391543\n",
            " 0.62614353 0.62268754 0.61034518 0.58928162]\n",
            "2 day output [[0.56523544]]\n",
            "3 day input [0.84448059 0.8072779  0.71843871 0.66192316 0.67696686 0.67554381\n",
            " 0.67310429 0.68428542 0.68936776 0.70217524 0.71803212 0.72941655\n",
            " 0.73144948 0.74486684 0.76926205 0.75991055 0.74242732 0.73958122\n",
            " 0.74771295 0.75991055 0.7584875  0.76621264 0.75462492 0.76316324\n",
            " 0.79670665 0.80585485 0.7889815  0.78003659 0.73978451 0.73002643\n",
            " 0.73490547 0.74872942 0.75991055 0.75462492 0.75401504 0.76174019\n",
            " 0.7737345  0.82008538 0.80585485 0.81154706 0.77434438 0.78633869\n",
            " 0.79284407 0.78328929 0.77109169 0.74385038 0.71193332 0.68733482\n",
            " 0.67818662 0.65257166 0.64301687 0.65643423 0.67656028 0.67371417\n",
            " 0.65114861 0.65521447 0.66761537 0.67838992 0.69993901 0.63122586\n",
            " 0.63508843 0.64098394 0.64545639 0.64118723 0.63854442 0.63081927\n",
            " 0.62472047 0.6330555  0.64728603 0.6574507  0.66761537 0.66720878\n",
            " 0.64159382 0.62776987 0.63651149 0.63630819 0.62980281 0.62817646\n",
            " 0.63813783 0.65358813 0.63183574 0.57653995 0.57816629 0.57613336\n",
            " 0.61943484 0.57979264 0.57288067 0.62573694 0.63102257 0.6361049\n",
            " 0.62776987 0.6269567  0.63590161 0.62594023 0.6391543  0.62614353\n",
            " 0.62268754 0.61034518 0.58928162 0.56523544]\n",
            "3 day output [[0.54085875]]\n",
            "4 day input [0.8072779  0.71843871 0.66192316 0.67696686 0.67554381 0.67310429\n",
            " 0.68428542 0.68936776 0.70217524 0.71803212 0.72941655 0.73144948\n",
            " 0.74486684 0.76926205 0.75991055 0.74242732 0.73958122 0.74771295\n",
            " 0.75991055 0.7584875  0.76621264 0.75462492 0.76316324 0.79670665\n",
            " 0.80585485 0.7889815  0.78003659 0.73978451 0.73002643 0.73490547\n",
            " 0.74872942 0.75991055 0.75462492 0.75401504 0.76174019 0.7737345\n",
            " 0.82008538 0.80585485 0.81154706 0.77434438 0.78633869 0.79284407\n",
            " 0.78328929 0.77109169 0.74385038 0.71193332 0.68733482 0.67818662\n",
            " 0.65257166 0.64301687 0.65643423 0.67656028 0.67371417 0.65114861\n",
            " 0.65521447 0.66761537 0.67838992 0.69993901 0.63122586 0.63508843\n",
            " 0.64098394 0.64545639 0.64118723 0.63854442 0.63081927 0.62472047\n",
            " 0.6330555  0.64728603 0.6574507  0.66761537 0.66720878 0.64159382\n",
            " 0.62776987 0.63651149 0.63630819 0.62980281 0.62817646 0.63813783\n",
            " 0.65358813 0.63183574 0.57653995 0.57816629 0.57613336 0.61943484\n",
            " 0.57979264 0.57288067 0.62573694 0.63102257 0.6361049  0.62776987\n",
            " 0.6269567  0.63590161 0.62594023 0.6391543  0.62614353 0.62268754\n",
            " 0.61034518 0.58928162 0.56523544 0.54085875]\n",
            "4 day output [[0.51792425]]\n",
            "5 day input [0.71843871 0.66192316 0.67696686 0.67554381 0.67310429 0.68428542\n",
            " 0.68936776 0.70217524 0.71803212 0.72941655 0.73144948 0.74486684\n",
            " 0.76926205 0.75991055 0.74242732 0.73958122 0.74771295 0.75991055\n",
            " 0.7584875  0.76621264 0.75462492 0.76316324 0.79670665 0.80585485\n",
            " 0.7889815  0.78003659 0.73978451 0.73002643 0.73490547 0.74872942\n",
            " 0.75991055 0.75462492 0.75401504 0.76174019 0.7737345  0.82008538\n",
            " 0.80585485 0.81154706 0.77434438 0.78633869 0.79284407 0.78328929\n",
            " 0.77109169 0.74385038 0.71193332 0.68733482 0.67818662 0.65257166\n",
            " 0.64301687 0.65643423 0.67656028 0.67371417 0.65114861 0.65521447\n",
            " 0.66761537 0.67838992 0.69993901 0.63122586 0.63508843 0.64098394\n",
            " 0.64545639 0.64118723 0.63854442 0.63081927 0.62472047 0.6330555\n",
            " 0.64728603 0.6574507  0.66761537 0.66720878 0.64159382 0.62776987\n",
            " 0.63651149 0.63630819 0.62980281 0.62817646 0.63813783 0.65358813\n",
            " 0.63183574 0.57653995 0.57816629 0.57613336 0.61943484 0.57979264\n",
            " 0.57288067 0.62573694 0.63102257 0.6361049  0.62776987 0.6269567\n",
            " 0.63590161 0.62594023 0.6391543  0.62614353 0.62268754 0.61034518\n",
            " 0.58928162 0.56523544 0.54085875 0.51792425]\n",
            "5 day output [[0.49688977]]\n",
            "6 day input [0.66192316 0.67696686 0.67554381 0.67310429 0.68428542 0.68936776\n",
            " 0.70217524 0.71803212 0.72941655 0.73144948 0.74486684 0.76926205\n",
            " 0.75991055 0.74242732 0.73958122 0.74771295 0.75991055 0.7584875\n",
            " 0.76621264 0.75462492 0.76316324 0.79670665 0.80585485 0.7889815\n",
            " 0.78003659 0.73978451 0.73002643 0.73490547 0.74872942 0.75991055\n",
            " 0.75462492 0.75401504 0.76174019 0.7737345  0.82008538 0.80585485\n",
            " 0.81154706 0.77434438 0.78633869 0.79284407 0.78328929 0.77109169\n",
            " 0.74385038 0.71193332 0.68733482 0.67818662 0.65257166 0.64301687\n",
            " 0.65643423 0.67656028 0.67371417 0.65114861 0.65521447 0.66761537\n",
            " 0.67838992 0.69993901 0.63122586 0.63508843 0.64098394 0.64545639\n",
            " 0.64118723 0.63854442 0.63081927 0.62472047 0.6330555  0.64728603\n",
            " 0.6574507  0.66761537 0.66720878 0.64159382 0.62776987 0.63651149\n",
            " 0.63630819 0.62980281 0.62817646 0.63813783 0.65358813 0.63183574\n",
            " 0.57653995 0.57816629 0.57613336 0.61943484 0.57979264 0.57288067\n",
            " 0.62573694 0.63102257 0.6361049  0.62776987 0.6269567  0.63590161\n",
            " 0.62594023 0.6391543  0.62614353 0.62268754 0.61034518 0.58928162\n",
            " 0.56523544 0.54085875 0.51792425 0.49688977]\n",
            "6 day output [[0.47835833]]\n",
            "7 day input [0.67696686 0.67554381 0.67310429 0.68428542 0.68936776 0.70217524\n",
            " 0.71803212 0.72941655 0.73144948 0.74486684 0.76926205 0.75991055\n",
            " 0.74242732 0.73958122 0.74771295 0.75991055 0.7584875  0.76621264\n",
            " 0.75462492 0.76316324 0.79670665 0.80585485 0.7889815  0.78003659\n",
            " 0.73978451 0.73002643 0.73490547 0.74872942 0.75991055 0.75462492\n",
            " 0.75401504 0.76174019 0.7737345  0.82008538 0.80585485 0.81154706\n",
            " 0.77434438 0.78633869 0.79284407 0.78328929 0.77109169 0.74385038\n",
            " 0.71193332 0.68733482 0.67818662 0.65257166 0.64301687 0.65643423\n",
            " 0.67656028 0.67371417 0.65114861 0.65521447 0.66761537 0.67838992\n",
            " 0.69993901 0.63122586 0.63508843 0.64098394 0.64545639 0.64118723\n",
            " 0.63854442 0.63081927 0.62472047 0.6330555  0.64728603 0.6574507\n",
            " 0.66761537 0.66720878 0.64159382 0.62776987 0.63651149 0.63630819\n",
            " 0.62980281 0.62817646 0.63813783 0.65358813 0.63183574 0.57653995\n",
            " 0.57816629 0.57613336 0.61943484 0.57979264 0.57288067 0.62573694\n",
            " 0.63102257 0.6361049  0.62776987 0.6269567  0.63590161 0.62594023\n",
            " 0.6391543  0.62614353 0.62268754 0.61034518 0.58928162 0.56523544\n",
            " 0.54085875 0.51792425 0.49688977 0.47835833]\n",
            "7 day output [[0.4612203]]\n",
            "8 day input [0.67554381 0.67310429 0.68428542 0.68936776 0.70217524 0.71803212\n",
            " 0.72941655 0.73144948 0.74486684 0.76926205 0.75991055 0.74242732\n",
            " 0.73958122 0.74771295 0.75991055 0.7584875  0.76621264 0.75462492\n",
            " 0.76316324 0.79670665 0.80585485 0.7889815  0.78003659 0.73978451\n",
            " 0.73002643 0.73490547 0.74872942 0.75991055 0.75462492 0.75401504\n",
            " 0.76174019 0.7737345  0.82008538 0.80585485 0.81154706 0.77434438\n",
            " 0.78633869 0.79284407 0.78328929 0.77109169 0.74385038 0.71193332\n",
            " 0.68733482 0.67818662 0.65257166 0.64301687 0.65643423 0.67656028\n",
            " 0.67371417 0.65114861 0.65521447 0.66761537 0.67838992 0.69993901\n",
            " 0.63122586 0.63508843 0.64098394 0.64545639 0.64118723 0.63854442\n",
            " 0.63081927 0.62472047 0.6330555  0.64728603 0.6574507  0.66761537\n",
            " 0.66720878 0.64159382 0.62776987 0.63651149 0.63630819 0.62980281\n",
            " 0.62817646 0.63813783 0.65358813 0.63183574 0.57653995 0.57816629\n",
            " 0.57613336 0.61943484 0.57979264 0.57288067 0.62573694 0.63102257\n",
            " 0.6361049  0.62776987 0.6269567  0.63590161 0.62594023 0.6391543\n",
            " 0.62614353 0.62268754 0.61034518 0.58928162 0.56523544 0.54085875\n",
            " 0.51792425 0.49688977 0.47835833 0.46122029]\n",
            "8 day output [[0.44685304]]\n",
            "9 day input [0.67310429 0.68428542 0.68936776 0.70217524 0.71803212 0.72941655\n",
            " 0.73144948 0.74486684 0.76926205 0.75991055 0.74242732 0.73958122\n",
            " 0.74771295 0.75991055 0.7584875  0.76621264 0.75462492 0.76316324\n",
            " 0.79670665 0.80585485 0.7889815  0.78003659 0.73978451 0.73002643\n",
            " 0.73490547 0.74872942 0.75991055 0.75462492 0.75401504 0.76174019\n",
            " 0.7737345  0.82008538 0.80585485 0.81154706 0.77434438 0.78633869\n",
            " 0.79284407 0.78328929 0.77109169 0.74385038 0.71193332 0.68733482\n",
            " 0.67818662 0.65257166 0.64301687 0.65643423 0.67656028 0.67371417\n",
            " 0.65114861 0.65521447 0.66761537 0.67838992 0.69993901 0.63122586\n",
            " 0.63508843 0.64098394 0.64545639 0.64118723 0.63854442 0.63081927\n",
            " 0.62472047 0.6330555  0.64728603 0.6574507  0.66761537 0.66720878\n",
            " 0.64159382 0.62776987 0.63651149 0.63630819 0.62980281 0.62817646\n",
            " 0.63813783 0.65358813 0.63183574 0.57653995 0.57816629 0.57613336\n",
            " 0.61943484 0.57979264 0.57288067 0.62573694 0.63102257 0.6361049\n",
            " 0.62776987 0.6269567  0.63590161 0.62594023 0.6391543  0.62614353\n",
            " 0.62268754 0.61034518 0.58928162 0.56523544 0.54085875 0.51792425\n",
            " 0.49688977 0.47835833 0.46122029 0.44685304]\n",
            "9 day output [[0.43558383]]\n",
            "10 day input [0.68428542 0.68936776 0.70217524 0.71803212 0.72941655 0.73144948\n",
            " 0.74486684 0.76926205 0.75991055 0.74242732 0.73958122 0.74771295\n",
            " 0.75991055 0.7584875  0.76621264 0.75462492 0.76316324 0.79670665\n",
            " 0.80585485 0.7889815  0.78003659 0.73978451 0.73002643 0.73490547\n",
            " 0.74872942 0.75991055 0.75462492 0.75401504 0.76174019 0.7737345\n",
            " 0.82008538 0.80585485 0.81154706 0.77434438 0.78633869 0.79284407\n",
            " 0.78328929 0.77109169 0.74385038 0.71193332 0.68733482 0.67818662\n",
            " 0.65257166 0.64301687 0.65643423 0.67656028 0.67371417 0.65114861\n",
            " 0.65521447 0.66761537 0.67838992 0.69993901 0.63122586 0.63508843\n",
            " 0.64098394 0.64545639 0.64118723 0.63854442 0.63081927 0.62472047\n",
            " 0.6330555  0.64728603 0.6574507  0.66761537 0.66720878 0.64159382\n",
            " 0.62776987 0.63651149 0.63630819 0.62980281 0.62817646 0.63813783\n",
            " 0.65358813 0.63183574 0.57653995 0.57816629 0.57613336 0.61943484\n",
            " 0.57979264 0.57288067 0.62573694 0.63102257 0.6361049  0.62776987\n",
            " 0.6269567  0.63590161 0.62594023 0.6391543  0.62614353 0.62268754\n",
            " 0.61034518 0.58928162 0.56523544 0.54085875 0.51792425 0.49688977\n",
            " 0.47835833 0.46122029 0.44685304 0.43558383]\n",
            "10 day output [[0.42718622]]\n",
            "11 day input [0.68936776 0.70217524 0.71803212 0.72941655 0.73144948 0.74486684\n",
            " 0.76926205 0.75991055 0.74242732 0.73958122 0.74771295 0.75991055\n",
            " 0.7584875  0.76621264 0.75462492 0.76316324 0.79670665 0.80585485\n",
            " 0.7889815  0.78003659 0.73978451 0.73002643 0.73490547 0.74872942\n",
            " 0.75991055 0.75462492 0.75401504 0.76174019 0.7737345  0.82008538\n",
            " 0.80585485 0.81154706 0.77434438 0.78633869 0.79284407 0.78328929\n",
            " 0.77109169 0.74385038 0.71193332 0.68733482 0.67818662 0.65257166\n",
            " 0.64301687 0.65643423 0.67656028 0.67371417 0.65114861 0.65521447\n",
            " 0.66761537 0.67838992 0.69993901 0.63122586 0.63508843 0.64098394\n",
            " 0.64545639 0.64118723 0.63854442 0.63081927 0.62472047 0.6330555\n",
            " 0.64728603 0.6574507  0.66761537 0.66720878 0.64159382 0.62776987\n",
            " 0.63651149 0.63630819 0.62980281 0.62817646 0.63813783 0.65358813\n",
            " 0.63183574 0.57653995 0.57816629 0.57613336 0.61943484 0.57979264\n",
            " 0.57288067 0.62573694 0.63102257 0.6361049  0.62776987 0.6269567\n",
            " 0.63590161 0.62594023 0.6391543  0.62614353 0.62268754 0.61034518\n",
            " 0.58928162 0.56523544 0.54085875 0.51792425 0.49688977 0.47835833\n",
            " 0.46122029 0.44685304 0.43558383 0.42718622]\n",
            "11 day output [[0.42121685]]\n",
            "12 day input [0.70217524 0.71803212 0.72941655 0.73144948 0.74486684 0.76926205\n",
            " 0.75991055 0.74242732 0.73958122 0.74771295 0.75991055 0.7584875\n",
            " 0.76621264 0.75462492 0.76316324 0.79670665 0.80585485 0.7889815\n",
            " 0.78003659 0.73978451 0.73002643 0.73490547 0.74872942 0.75991055\n",
            " 0.75462492 0.75401504 0.76174019 0.7737345  0.82008538 0.80585485\n",
            " 0.81154706 0.77434438 0.78633869 0.79284407 0.78328929 0.77109169\n",
            " 0.74385038 0.71193332 0.68733482 0.67818662 0.65257166 0.64301687\n",
            " 0.65643423 0.67656028 0.67371417 0.65114861 0.65521447 0.66761537\n",
            " 0.67838992 0.69993901 0.63122586 0.63508843 0.64098394 0.64545639\n",
            " 0.64118723 0.63854442 0.63081927 0.62472047 0.6330555  0.64728603\n",
            " 0.6574507  0.66761537 0.66720878 0.64159382 0.62776987 0.63651149\n",
            " 0.63630819 0.62980281 0.62817646 0.63813783 0.65358813 0.63183574\n",
            " 0.57653995 0.57816629 0.57613336 0.61943484 0.57979264 0.57288067\n",
            " 0.62573694 0.63102257 0.6361049  0.62776987 0.6269567  0.63590161\n",
            " 0.62594023 0.6391543  0.62614353 0.62268754 0.61034518 0.58928162\n",
            " 0.56523544 0.54085875 0.51792425 0.49688977 0.47835833 0.46122029\n",
            " 0.44685304 0.43558383 0.42718622 0.42121685]\n",
            "12 day output [[0.41716763]]\n",
            "13 day input [0.71803212 0.72941655 0.73144948 0.74486684 0.76926205 0.75991055\n",
            " 0.74242732 0.73958122 0.74771295 0.75991055 0.7584875  0.76621264\n",
            " 0.75462492 0.76316324 0.79670665 0.80585485 0.7889815  0.78003659\n",
            " 0.73978451 0.73002643 0.73490547 0.74872942 0.75991055 0.75462492\n",
            " 0.75401504 0.76174019 0.7737345  0.82008538 0.80585485 0.81154706\n",
            " 0.77434438 0.78633869 0.79284407 0.78328929 0.77109169 0.74385038\n",
            " 0.71193332 0.68733482 0.67818662 0.65257166 0.64301687 0.65643423\n",
            " 0.67656028 0.67371417 0.65114861 0.65521447 0.66761537 0.67838992\n",
            " 0.69993901 0.63122586 0.63508843 0.64098394 0.64545639 0.64118723\n",
            " 0.63854442 0.63081927 0.62472047 0.6330555  0.64728603 0.6574507\n",
            " 0.66761537 0.66720878 0.64159382 0.62776987 0.63651149 0.63630819\n",
            " 0.62980281 0.62817646 0.63813783 0.65358813 0.63183574 0.57653995\n",
            " 0.57816629 0.57613336 0.61943484 0.57979264 0.57288067 0.62573694\n",
            " 0.63102257 0.6361049  0.62776987 0.6269567  0.63590161 0.62594023\n",
            " 0.6391543  0.62614353 0.62268754 0.61034518 0.58928162 0.56523544\n",
            " 0.54085875 0.51792425 0.49688977 0.47835833 0.46122029 0.44685304\n",
            " 0.43558383 0.42718622 0.42121685 0.41716763]\n",
            "13 day output [[0.41454118]]\n",
            "14 day input [0.72941655 0.73144948 0.74486684 0.76926205 0.75991055 0.74242732\n",
            " 0.73958122 0.74771295 0.75991055 0.7584875  0.76621264 0.75462492\n",
            " 0.76316324 0.79670665 0.80585485 0.7889815  0.78003659 0.73978451\n",
            " 0.73002643 0.73490547 0.74872942 0.75991055 0.75462492 0.75401504\n",
            " 0.76174019 0.7737345  0.82008538 0.80585485 0.81154706 0.77434438\n",
            " 0.78633869 0.79284407 0.78328929 0.77109169 0.74385038 0.71193332\n",
            " 0.68733482 0.67818662 0.65257166 0.64301687 0.65643423 0.67656028\n",
            " 0.67371417 0.65114861 0.65521447 0.66761537 0.67838992 0.69993901\n",
            " 0.63122586 0.63508843 0.64098394 0.64545639 0.64118723 0.63854442\n",
            " 0.63081927 0.62472047 0.6330555  0.64728603 0.6574507  0.66761537\n",
            " 0.66720878 0.64159382 0.62776987 0.63651149 0.63630819 0.62980281\n",
            " 0.62817646 0.63813783 0.65358813 0.63183574 0.57653995 0.57816629\n",
            " 0.57613336 0.61943484 0.57979264 0.57288067 0.62573694 0.63102257\n",
            " 0.6361049  0.62776987 0.6269567  0.63590161 0.62594023 0.6391543\n",
            " 0.62614353 0.62268754 0.61034518 0.58928162 0.56523544 0.54085875\n",
            " 0.51792425 0.49688977 0.47835833 0.46122029 0.44685304 0.43558383\n",
            " 0.42718622 0.42121685 0.41716763 0.41454118]\n",
            "14 day output [[0.41289204]]\n",
            "15 day input [0.73144948 0.74486684 0.76926205 0.75991055 0.74242732 0.73958122\n",
            " 0.74771295 0.75991055 0.7584875  0.76621264 0.75462492 0.76316324\n",
            " 0.79670665 0.80585485 0.7889815  0.78003659 0.73978451 0.73002643\n",
            " 0.73490547 0.74872942 0.75991055 0.75462492 0.75401504 0.76174019\n",
            " 0.7737345  0.82008538 0.80585485 0.81154706 0.77434438 0.78633869\n",
            " 0.79284407 0.78328929 0.77109169 0.74385038 0.71193332 0.68733482\n",
            " 0.67818662 0.65257166 0.64301687 0.65643423 0.67656028 0.67371417\n",
            " 0.65114861 0.65521447 0.66761537 0.67838992 0.69993901 0.63122586\n",
            " 0.63508843 0.64098394 0.64545639 0.64118723 0.63854442 0.63081927\n",
            " 0.62472047 0.6330555  0.64728603 0.6574507  0.66761537 0.66720878\n",
            " 0.64159382 0.62776987 0.63651149 0.63630819 0.62980281 0.62817646\n",
            " 0.63813783 0.65358813 0.63183574 0.57653995 0.57816629 0.57613336\n",
            " 0.61943484 0.57979264 0.57288067 0.62573694 0.63102257 0.6361049\n",
            " 0.62776987 0.6269567  0.63590161 0.62594023 0.6391543  0.62614353\n",
            " 0.62268754 0.61034518 0.58928162 0.56523544 0.54085875 0.51792425\n",
            " 0.49688977 0.47835833 0.46122029 0.44685304 0.43558383 0.42718622\n",
            " 0.42121685 0.41716763 0.41454118 0.41289204]\n",
            "15 day output [[0.4118491]]\n",
            "16 day input [0.74486684 0.76926205 0.75991055 0.74242732 0.73958122 0.74771295\n",
            " 0.75991055 0.7584875  0.76621264 0.75462492 0.76316324 0.79670665\n",
            " 0.80585485 0.7889815  0.78003659 0.73978451 0.73002643 0.73490547\n",
            " 0.74872942 0.75991055 0.75462492 0.75401504 0.76174019 0.7737345\n",
            " 0.82008538 0.80585485 0.81154706 0.77434438 0.78633869 0.79284407\n",
            " 0.78328929 0.77109169 0.74385038 0.71193332 0.68733482 0.67818662\n",
            " 0.65257166 0.64301687 0.65643423 0.67656028 0.67371417 0.65114861\n",
            " 0.65521447 0.66761537 0.67838992 0.69993901 0.63122586 0.63508843\n",
            " 0.64098394 0.64545639 0.64118723 0.63854442 0.63081927 0.62472047\n",
            " 0.6330555  0.64728603 0.6574507  0.66761537 0.66720878 0.64159382\n",
            " 0.62776987 0.63651149 0.63630819 0.62980281 0.62817646 0.63813783\n",
            " 0.65358813 0.63183574 0.57653995 0.57816629 0.57613336 0.61943484\n",
            " 0.57979264 0.57288067 0.62573694 0.63102257 0.6361049  0.62776987\n",
            " 0.6269567  0.63590161 0.62594023 0.6391543  0.62614353 0.62268754\n",
            " 0.61034518 0.58928162 0.56523544 0.54085875 0.51792425 0.49688977\n",
            " 0.47835833 0.46122029 0.44685304 0.43558383 0.42718622 0.42121685\n",
            " 0.41716763 0.41454118 0.41289204 0.41184911]\n",
            "16 day output [[0.4111232]]\n",
            "17 day input [0.76926205 0.75991055 0.74242732 0.73958122 0.74771295 0.75991055\n",
            " 0.7584875  0.76621264 0.75462492 0.76316324 0.79670665 0.80585485\n",
            " 0.7889815  0.78003659 0.73978451 0.73002643 0.73490547 0.74872942\n",
            " 0.75991055 0.75462492 0.75401504 0.76174019 0.7737345  0.82008538\n",
            " 0.80585485 0.81154706 0.77434438 0.78633869 0.79284407 0.78328929\n",
            " 0.77109169 0.74385038 0.71193332 0.68733482 0.67818662 0.65257166\n",
            " 0.64301687 0.65643423 0.67656028 0.67371417 0.65114861 0.65521447\n",
            " 0.66761537 0.67838992 0.69993901 0.63122586 0.63508843 0.64098394\n",
            " 0.64545639 0.64118723 0.63854442 0.63081927 0.62472047 0.6330555\n",
            " 0.64728603 0.6574507  0.66761537 0.66720878 0.64159382 0.62776987\n",
            " 0.63651149 0.63630819 0.62980281 0.62817646 0.63813783 0.65358813\n",
            " 0.63183574 0.57653995 0.57816629 0.57613336 0.61943484 0.57979264\n",
            " 0.57288067 0.62573694 0.63102257 0.6361049  0.62776987 0.6269567\n",
            " 0.63590161 0.62594023 0.6391543  0.62614353 0.62268754 0.61034518\n",
            " 0.58928162 0.56523544 0.54085875 0.51792425 0.49688977 0.47835833\n",
            " 0.46122029 0.44685304 0.43558383 0.42718622 0.42121685 0.41716763\n",
            " 0.41454118 0.41289204 0.41184911 0.41112319]\n",
            "17 day output [[0.4105044]]\n",
            "18 day input [0.75991055 0.74242732 0.73958122 0.74771295 0.75991055 0.7584875\n",
            " 0.76621264 0.75462492 0.76316324 0.79670665 0.80585485 0.7889815\n",
            " 0.78003659 0.73978451 0.73002643 0.73490547 0.74872942 0.75991055\n",
            " 0.75462492 0.75401504 0.76174019 0.7737345  0.82008538 0.80585485\n",
            " 0.81154706 0.77434438 0.78633869 0.79284407 0.78328929 0.77109169\n",
            " 0.74385038 0.71193332 0.68733482 0.67818662 0.65257166 0.64301687\n",
            " 0.65643423 0.67656028 0.67371417 0.65114861 0.65521447 0.66761537\n",
            " 0.67838992 0.69993901 0.63122586 0.63508843 0.64098394 0.64545639\n",
            " 0.64118723 0.63854442 0.63081927 0.62472047 0.6330555  0.64728603\n",
            " 0.6574507  0.66761537 0.66720878 0.64159382 0.62776987 0.63651149\n",
            " 0.63630819 0.62980281 0.62817646 0.63813783 0.65358813 0.63183574\n",
            " 0.57653995 0.57816629 0.57613336 0.61943484 0.57979264 0.57288067\n",
            " 0.62573694 0.63102257 0.6361049  0.62776987 0.6269567  0.63590161\n",
            " 0.62594023 0.6391543  0.62614353 0.62268754 0.61034518 0.58928162\n",
            " 0.56523544 0.54085875 0.51792425 0.49688977 0.47835833 0.46122029\n",
            " 0.44685304 0.43558383 0.42718622 0.42121685 0.41716763 0.41454118\n",
            " 0.41289204 0.41184911 0.41112319 0.4105044 ]\n",
            "18 day output [[0.4098526]]\n",
            "19 day input [0.74242732 0.73958122 0.74771295 0.75991055 0.7584875  0.76621264\n",
            " 0.75462492 0.76316324 0.79670665 0.80585485 0.7889815  0.78003659\n",
            " 0.73978451 0.73002643 0.73490547 0.74872942 0.75991055 0.75462492\n",
            " 0.75401504 0.76174019 0.7737345  0.82008538 0.80585485 0.81154706\n",
            " 0.77434438 0.78633869 0.79284407 0.78328929 0.77109169 0.74385038\n",
            " 0.71193332 0.68733482 0.67818662 0.65257166 0.64301687 0.65643423\n",
            " 0.67656028 0.67371417 0.65114861 0.65521447 0.66761537 0.67838992\n",
            " 0.69993901 0.63122586 0.63508843 0.64098394 0.64545639 0.64118723\n",
            " 0.63854442 0.63081927 0.62472047 0.6330555  0.64728603 0.6574507\n",
            " 0.66761537 0.66720878 0.64159382 0.62776987 0.63651149 0.63630819\n",
            " 0.62980281 0.62817646 0.63813783 0.65358813 0.63183574 0.57653995\n",
            " 0.57816629 0.57613336 0.61943484 0.57979264 0.57288067 0.62573694\n",
            " 0.63102257 0.6361049  0.62776987 0.6269567  0.63590161 0.62594023\n",
            " 0.6391543  0.62614353 0.62268754 0.61034518 0.58928162 0.56523544\n",
            " 0.54085875 0.51792425 0.49688977 0.47835833 0.46122029 0.44685304\n",
            " 0.43558383 0.42718622 0.42121685 0.41716763 0.41454118 0.41289204\n",
            " 0.41184911 0.41112319 0.4105044  0.40985259]\n",
            "19 day output [[0.40908527]]\n",
            "20 day input [0.73958122 0.74771295 0.75991055 0.7584875  0.76621264 0.75462492\n",
            " 0.76316324 0.79670665 0.80585485 0.7889815  0.78003659 0.73978451\n",
            " 0.73002643 0.73490547 0.74872942 0.75991055 0.75462492 0.75401504\n",
            " 0.76174019 0.7737345  0.82008538 0.80585485 0.81154706 0.77434438\n",
            " 0.78633869 0.79284407 0.78328929 0.77109169 0.74385038 0.71193332\n",
            " 0.68733482 0.67818662 0.65257166 0.64301687 0.65643423 0.67656028\n",
            " 0.67371417 0.65114861 0.65521447 0.66761537 0.67838992 0.69993901\n",
            " 0.63122586 0.63508843 0.64098394 0.64545639 0.64118723 0.63854442\n",
            " 0.63081927 0.62472047 0.6330555  0.64728603 0.6574507  0.66761537\n",
            " 0.66720878 0.64159382 0.62776987 0.63651149 0.63630819 0.62980281\n",
            " 0.62817646 0.63813783 0.65358813 0.63183574 0.57653995 0.57816629\n",
            " 0.57613336 0.61943484 0.57979264 0.57288067 0.62573694 0.63102257\n",
            " 0.6361049  0.62776987 0.6269567  0.63590161 0.62594023 0.6391543\n",
            " 0.62614353 0.62268754 0.61034518 0.58928162 0.56523544 0.54085875\n",
            " 0.51792425 0.49688977 0.47835833 0.46122029 0.44685304 0.43558383\n",
            " 0.42718622 0.42121685 0.41716763 0.41454118 0.41289204 0.41184911\n",
            " 0.41112319 0.4105044  0.40985259 0.40908527]\n",
            "20 day output [[0.4081644]]\n",
            "21 day input [0.74771295 0.75991055 0.7584875  0.76621264 0.75462492 0.76316324\n",
            " 0.79670665 0.80585485 0.7889815  0.78003659 0.73978451 0.73002643\n",
            " 0.73490547 0.74872942 0.75991055 0.75462492 0.75401504 0.76174019\n",
            " 0.7737345  0.82008538 0.80585485 0.81154706 0.77434438 0.78633869\n",
            " 0.79284407 0.78328929 0.77109169 0.74385038 0.71193332 0.68733482\n",
            " 0.67818662 0.65257166 0.64301687 0.65643423 0.67656028 0.67371417\n",
            " 0.65114861 0.65521447 0.66761537 0.67838992 0.69993901 0.63122586\n",
            " 0.63508843 0.64098394 0.64545639 0.64118723 0.63854442 0.63081927\n",
            " 0.62472047 0.6330555  0.64728603 0.6574507  0.66761537 0.66720878\n",
            " 0.64159382 0.62776987 0.63651149 0.63630819 0.62980281 0.62817646\n",
            " 0.63813783 0.65358813 0.63183574 0.57653995 0.57816629 0.57613336\n",
            " 0.61943484 0.57979264 0.57288067 0.62573694 0.63102257 0.6361049\n",
            " 0.62776987 0.6269567  0.63590161 0.62594023 0.6391543  0.62614353\n",
            " 0.62268754 0.61034518 0.58928162 0.56523544 0.54085875 0.51792425\n",
            " 0.49688977 0.47835833 0.46122029 0.44685304 0.43558383 0.42718622\n",
            " 0.42121685 0.41716763 0.41454118 0.41289204 0.41184911 0.41112319\n",
            " 0.4105044  0.40985259 0.40908527 0.40816441]\n",
            "21 day output [[0.4070847]]\n",
            "22 day input [0.75991055 0.7584875  0.76621264 0.75462492 0.76316324 0.79670665\n",
            " 0.80585485 0.7889815  0.78003659 0.73978451 0.73002643 0.73490547\n",
            " 0.74872942 0.75991055 0.75462492 0.75401504 0.76174019 0.7737345\n",
            " 0.82008538 0.80585485 0.81154706 0.77434438 0.78633869 0.79284407\n",
            " 0.78328929 0.77109169 0.74385038 0.71193332 0.68733482 0.67818662\n",
            " 0.65257166 0.64301687 0.65643423 0.67656028 0.67371417 0.65114861\n",
            " 0.65521447 0.66761537 0.67838992 0.69993901 0.63122586 0.63508843\n",
            " 0.64098394 0.64545639 0.64118723 0.63854442 0.63081927 0.62472047\n",
            " 0.6330555  0.64728603 0.6574507  0.66761537 0.66720878 0.64159382\n",
            " 0.62776987 0.63651149 0.63630819 0.62980281 0.62817646 0.63813783\n",
            " 0.65358813 0.63183574 0.57653995 0.57816629 0.57613336 0.61943484\n",
            " 0.57979264 0.57288067 0.62573694 0.63102257 0.6361049  0.62776987\n",
            " 0.6269567  0.63590161 0.62594023 0.6391543  0.62614353 0.62268754\n",
            " 0.61034518 0.58928162 0.56523544 0.54085875 0.51792425 0.49688977\n",
            " 0.47835833 0.46122029 0.44685304 0.43558383 0.42718622 0.42121685\n",
            " 0.41716763 0.41454118 0.41289204 0.41184911 0.41112319 0.4105044\n",
            " 0.40985259 0.40908527 0.40816441 0.4070847 ]\n",
            "22 day output [[0.40586263]]\n",
            "23 day input [0.7584875  0.76621264 0.75462492 0.76316324 0.79670665 0.80585485\n",
            " 0.7889815  0.78003659 0.73978451 0.73002643 0.73490547 0.74872942\n",
            " 0.75991055 0.75462492 0.75401504 0.76174019 0.7737345  0.82008538\n",
            " 0.80585485 0.81154706 0.77434438 0.78633869 0.79284407 0.78328929\n",
            " 0.77109169 0.74385038 0.71193332 0.68733482 0.67818662 0.65257166\n",
            " 0.64301687 0.65643423 0.67656028 0.67371417 0.65114861 0.65521447\n",
            " 0.66761537 0.67838992 0.69993901 0.63122586 0.63508843 0.64098394\n",
            " 0.64545639 0.64118723 0.63854442 0.63081927 0.62472047 0.6330555\n",
            " 0.64728603 0.6574507  0.66761537 0.66720878 0.64159382 0.62776987\n",
            " 0.63651149 0.63630819 0.62980281 0.62817646 0.63813783 0.65358813\n",
            " 0.63183574 0.57653995 0.57816629 0.57613336 0.61943484 0.57979264\n",
            " 0.57288067 0.62573694 0.63102257 0.6361049  0.62776987 0.6269567\n",
            " 0.63590161 0.62594023 0.6391543  0.62614353 0.62268754 0.61034518\n",
            " 0.58928162 0.56523544 0.54085875 0.51792425 0.49688977 0.47835833\n",
            " 0.46122029 0.44685304 0.43558383 0.42718622 0.42121685 0.41716763\n",
            " 0.41454118 0.41289204 0.41184911 0.41112319 0.4105044  0.40985259\n",
            " 0.40908527 0.40816441 0.4070847  0.40586263]\n",
            "23 day output [[0.404528]]\n",
            "24 day input [0.76621264 0.75462492 0.76316324 0.79670665 0.80585485 0.7889815\n",
            " 0.78003659 0.73978451 0.73002643 0.73490547 0.74872942 0.75991055\n",
            " 0.75462492 0.75401504 0.76174019 0.7737345  0.82008538 0.80585485\n",
            " 0.81154706 0.77434438 0.78633869 0.79284407 0.78328929 0.77109169\n",
            " 0.74385038 0.71193332 0.68733482 0.67818662 0.65257166 0.64301687\n",
            " 0.65643423 0.67656028 0.67371417 0.65114861 0.65521447 0.66761537\n",
            " 0.67838992 0.69993901 0.63122586 0.63508843 0.64098394 0.64545639\n",
            " 0.64118723 0.63854442 0.63081927 0.62472047 0.6330555  0.64728603\n",
            " 0.6574507  0.66761537 0.66720878 0.64159382 0.62776987 0.63651149\n",
            " 0.63630819 0.62980281 0.62817646 0.63813783 0.65358813 0.63183574\n",
            " 0.57653995 0.57816629 0.57613336 0.61943484 0.57979264 0.57288067\n",
            " 0.62573694 0.63102257 0.6361049  0.62776987 0.6269567  0.63590161\n",
            " 0.62594023 0.6391543  0.62614353 0.62268754 0.61034518 0.58928162\n",
            " 0.56523544 0.54085875 0.51792425 0.49688977 0.47835833 0.46122029\n",
            " 0.44685304 0.43558383 0.42718622 0.42121685 0.41716763 0.41454118\n",
            " 0.41289204 0.41184911 0.41112319 0.4105044  0.40985259 0.40908527\n",
            " 0.40816441 0.4070847  0.40586263 0.40452799]\n",
            "24 day output [[0.40311643]]\n",
            "25 day input [0.75462492 0.76316324 0.79670665 0.80585485 0.7889815  0.78003659\n",
            " 0.73978451 0.73002643 0.73490547 0.74872942 0.75991055 0.75462492\n",
            " 0.75401504 0.76174019 0.7737345  0.82008538 0.80585485 0.81154706\n",
            " 0.77434438 0.78633869 0.79284407 0.78328929 0.77109169 0.74385038\n",
            " 0.71193332 0.68733482 0.67818662 0.65257166 0.64301687 0.65643423\n",
            " 0.67656028 0.67371417 0.65114861 0.65521447 0.66761537 0.67838992\n",
            " 0.69993901 0.63122586 0.63508843 0.64098394 0.64545639 0.64118723\n",
            " 0.63854442 0.63081927 0.62472047 0.6330555  0.64728603 0.6574507\n",
            " 0.66761537 0.66720878 0.64159382 0.62776987 0.63651149 0.63630819\n",
            " 0.62980281 0.62817646 0.63813783 0.65358813 0.63183574 0.57653995\n",
            " 0.57816629 0.57613336 0.61943484 0.57979264 0.57288067 0.62573694\n",
            " 0.63102257 0.6361049  0.62776987 0.6269567  0.63590161 0.62594023\n",
            " 0.6391543  0.62614353 0.62268754 0.61034518 0.58928162 0.56523544\n",
            " 0.54085875 0.51792425 0.49688977 0.47835833 0.46122029 0.44685304\n",
            " 0.43558383 0.42718622 0.42121685 0.41716763 0.41454118 0.41289204\n",
            " 0.41184911 0.41112319 0.4105044  0.40985259 0.40908527 0.40816441\n",
            " 0.4070847  0.40586263 0.40452799 0.40311643]\n",
            "25 day output [[0.40166494]]\n",
            "26 day input [0.76316324 0.79670665 0.80585485 0.7889815  0.78003659 0.73978451\n",
            " 0.73002643 0.73490547 0.74872942 0.75991055 0.75462492 0.75401504\n",
            " 0.76174019 0.7737345  0.82008538 0.80585485 0.81154706 0.77434438\n",
            " 0.78633869 0.79284407 0.78328929 0.77109169 0.74385038 0.71193332\n",
            " 0.68733482 0.67818662 0.65257166 0.64301687 0.65643423 0.67656028\n",
            " 0.67371417 0.65114861 0.65521447 0.66761537 0.67838992 0.69993901\n",
            " 0.63122586 0.63508843 0.64098394 0.64545639 0.64118723 0.63854442\n",
            " 0.63081927 0.62472047 0.6330555  0.64728603 0.6574507  0.66761537\n",
            " 0.66720878 0.64159382 0.62776987 0.63651149 0.63630819 0.62980281\n",
            " 0.62817646 0.63813783 0.65358813 0.63183574 0.57653995 0.57816629\n",
            " 0.57613336 0.61943484 0.57979264 0.57288067 0.62573694 0.63102257\n",
            " 0.6361049  0.62776987 0.6269567  0.63590161 0.62594023 0.6391543\n",
            " 0.62614353 0.62268754 0.61034518 0.58928162 0.56523544 0.54085875\n",
            " 0.51792425 0.49688977 0.47835833 0.46122029 0.44685304 0.43558383\n",
            " 0.42718622 0.42121685 0.41716763 0.41454118 0.41289204 0.41184911\n",
            " 0.41112319 0.4105044  0.40985259 0.40908527 0.40816441 0.4070847\n",
            " 0.40586263 0.40452799 0.40311643 0.40166494]\n",
            "26 day output [[0.40020734]]\n",
            "27 day input [0.79670665 0.80585485 0.7889815  0.78003659 0.73978451 0.73002643\n",
            " 0.73490547 0.74872942 0.75991055 0.75462492 0.75401504 0.76174019\n",
            " 0.7737345  0.82008538 0.80585485 0.81154706 0.77434438 0.78633869\n",
            " 0.79284407 0.78328929 0.77109169 0.74385038 0.71193332 0.68733482\n",
            " 0.67818662 0.65257166 0.64301687 0.65643423 0.67656028 0.67371417\n",
            " 0.65114861 0.65521447 0.66761537 0.67838992 0.69993901 0.63122586\n",
            " 0.63508843 0.64098394 0.64545639 0.64118723 0.63854442 0.63081927\n",
            " 0.62472047 0.6330555  0.64728603 0.6574507  0.66761537 0.66720878\n",
            " 0.64159382 0.62776987 0.63651149 0.63630819 0.62980281 0.62817646\n",
            " 0.63813783 0.65358813 0.63183574 0.57653995 0.57816629 0.57613336\n",
            " 0.61943484 0.57979264 0.57288067 0.62573694 0.63102257 0.6361049\n",
            " 0.62776987 0.6269567  0.63590161 0.62594023 0.6391543  0.62614353\n",
            " 0.62268754 0.61034518 0.58928162 0.56523544 0.54085875 0.51792425\n",
            " 0.49688977 0.47835833 0.46122029 0.44685304 0.43558383 0.42718622\n",
            " 0.42121685 0.41716763 0.41454118 0.41289204 0.41184911 0.41112319\n",
            " 0.4105044  0.40985259 0.40908527 0.40816441 0.4070847  0.40586263\n",
            " 0.40452799 0.40311643 0.40166494 0.40020734]\n",
            "27 day output [[0.39877212]]\n",
            "[[0.610345184803009], [0.5892816185951233], [0.565235435962677], [0.5408587455749512], [0.5179242491722107], [0.49688977003097534], [0.47835832834243774], [0.46122029423713684], [0.44685304164886475], [0.43558382987976074], [0.4271862208843231], [0.42121684551239014], [0.41716763377189636], [0.41454118490219116], [0.41289204359054565], [0.41184911131858826], [0.4111231863498688], [0.41050440073013306], [0.4098525941371918], [0.4090852737426758], [0.4081644117832184], [0.40708470344543457], [0.40586262941360474], [0.4045279920101166], [0.4031164348125458], [0.40166494250297546], [0.4002073407173157], [0.39877212047576904]]\n"
          ]
        }
      ]
    },
    {
      "cell_type": "code",
      "source": [
        "day_new = np.arange(1,101)\n",
        "day_pred = np.arange(101,129)"
      ],
      "metadata": {
        "id": "eHPd5HWfnIQG"
      },
      "execution_count": 27,
      "outputs": []
    },
    {
      "cell_type": "code",
      "source": [
        "day_new = np.arange(1,101)\n",
        "day_pred = np.arange(101,129)"
      ],
      "metadata": {
        "id": "hSh0AYrinMJl"
      },
      "execution_count": 28,
      "outputs": []
    },
    {
      "cell_type": "code",
      "source": [
        "ds_new = ds_high.tolist()\n",
        "ds_new.extend(lst_output)\n",
        "\n",
        "len(ds_high)"
      ],
      "metadata": {
        "colab": {
          "base_uri": "https://localhost:8080/"
        },
        "id": "WeQQ4jUHnOQ1",
        "outputId": "1f688b26-627c-4773-eb70-79ec96b2ca36"
      },
      "execution_count": 29,
      "outputs": [
        {
          "output_type": "execute_result",
          "data": {
            "text/plain": [
              "2035"
            ]
          },
          "metadata": {},
          "execution_count": 29
        }
      ]
    },
    {
      "cell_type": "code",
      "source": [
        "plt.plot(day_new,sc.inverse_transform(ds_high[1935:]),'b')\n",
        "plt.plot(day_pred,sc.inverse_transform(lst_output),'r')\n",
        "plt.show()"
      ],
      "metadata": {
        "colab": {
          "base_uri": "https://localhost:8080/",
          "height": 430
        },
        "id": "vI9LIf7HnSmZ",
        "outputId": "9646a5f3-d32b-4bd3-e9f8-17625ff118b4"
      },
      "execution_count": 30,
      "outputs": [
        {
          "output_type": "display_data",
          "data": {
            "text/plain": [
              "<Figure size 640x480 with 1 Axes>"
            ],
            "image/png": "[encoded data removed]"
          },
          "metadata": {}
        }
      ]
    },
    {
      "cell_type": "code",
      "source": [
        "ds_new = ds_high.tolist()\n",
        "ds_new.extend(lst_output)\n",
        "plt.plot(ds_new[2000:],'r')\n",
        "plt.show()"
      ],
      "metadata": {
        "colab": {
          "base_uri": "https://localhost:8080/",
          "height": 430
        },
        "id": "MdrvaJkznVcG",
        "outputId": "4c587f19-43ea-4ea0-bd2b-79153d167b82"
      },
      "execution_count": 31,
      "outputs": [
        {
          "output_type": "display_data",
          "data": {
            "text/plain": [
              "<Figure size 640x480 with 1 Axes>"
            ],
            "image/png": "[encoded data removed]"
          },
          "metadata": {}
        }
      ]
    },
    {
      "cell_type": "code",
      "source": [
        "ds_new = sc.inverse_transform(ds_new).tolist()"
      ],
      "metadata": {
        "id": "P1byrRJKnaAz"
      },
      "execution_count": 32,
      "outputs": []
    },
    {
      "cell_type": "code",
      "source": [
        "plt.plot(ds_new)\n",
        "plt.show()"
      ],
      "metadata": {
        "colab": {
          "base_uri": "https://localhost:8080/",
          "height": 430
        },
        "id": "GfJe2S_VncKP",
        "outputId": "fd6cc074-531c-4b32-9be7-e162b1c6397b"
      },
      "execution_count": 33,
      "outputs": [
        {
          "output_type": "display_data",
          "data": {
            "text/plain": [
              "<Figure size 640x480 with 1 Axes>"
            ],
            "image/png": "[encoded data removed]"
          },
          "metadata": {}
        }
      ]
    }
  ]
}